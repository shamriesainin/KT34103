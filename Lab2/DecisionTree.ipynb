{
 "cells": [
  {
   "cell_type": "code",
   "execution_count": null,
   "metadata": {},
   "outputs": [],
   "source": [
    "import pandas as pd\n",
    "from sklearn import preprocessing\n",
    "from sklearn.tree import DecisionTreeClassifier # Import Decision Tree Classifier\n",
    "from sklearn import metrics #Import scikit-learn metrics module for accuracy calculation"
   ]
  },
  {
   "cell_type": "code",
   "execution_count": null,
   "metadata": {
    "scrolled": true
   },
   "outputs": [],
   "source": [
    "col_names = ['Refund', 'MarStat', 'TaxInc', 'Cheat']\n",
    "# load dataset\n",
    "data = pd.read_csv(\"train_data.csv\", header=None, names=col_names)\n",
    "data.head()"
   ]
  },
  {
   "cell_type": "code",
   "execution_count": null,
   "metadata": {},
   "outputs": [],
   "source": [
    "#encoding categorical to numeric\n",
    "from sklearn.preprocessing import OrdinalEncoder\n",
    "\n",
    "ord_enc = OrdinalEncoder()\n",
    "data[\"Refund1\"] = ord_enc.fit_transform(data[[\"Refund\"]])\n",
    "print(data[[\"Refund\", \"Refund1\"]])\n",
    "data[\"MarStat1\"] = ord_enc.fit_transform(data[[\"MarStat\"]])\n",
    "print(data[[\"MarStat\", \"MarStat1\"]])\n",
    "data[\"Cheat1\"] = ord_enc.fit_transform(data[[\"Cheat\"]])\n",
    "print(data[[\"Cheat\", \"Cheat1\"]])\n",
    "\n",
    "#select data\n",
    "data_new = pd.DataFrame(data[[\"Refund1\", \"MarStat1\", \"TaxInc\", \"Cheat1\"]])\n",
    "\n",
    "data_new"
   ]
  },
  {
   "cell_type": "code",
   "execution_count": null,
   "metadata": {},
   "outputs": [],
   "source": [
    "#get features and target\n",
    "feature_cols = ['Refund1', 'MarStat1', 'TaxInc']\n",
    "X = data_new[feature_cols] # Features\n",
    "y = data_new.Cheat1 # Target variable"
   ]
  },
  {
   "cell_type": "code",
   "execution_count": null,
   "metadata": {},
   "outputs": [],
   "source": [
    "# Create Decision Tree classifer object\n",
    "clf = DecisionTreeClassifier()\n",
    "\n",
    "# Train Decision Tree Classifer\n",
    "clf = clf.fit(X,y) \n",
    "\n",
    "#Predict the response for train dataset\n",
    "y_pred = clf.predict(X)\n",
    "\n",
    "# Model Accuracy, how often is the classifier correct?\n",
    "print(\"Accuracy:\",metrics.accuracy_score(y, y_pred))"
   ]
  },
  {
   "cell_type": "code",
   "execution_count": null,
   "metadata": {},
   "outputs": [],
   "source": [
    "#classify new data\n",
    "#based on the representation\n",
    "#no, married, 80,?\n",
    "#1.0, 1.0, 80\n",
    "xq = [[1.0, 1.0, 80]] \n",
    "\n",
    "#Predict the response for test dataset\n",
    "y_pred = clf.predict(xq)\n",
    "y_pred[0]"
   ]
  },
  {
   "cell_type": "code",
   "execution_count": null,
   "metadata": {},
   "outputs": [],
   "source": [
    "#need to install graphviz first\n",
    "from sklearn.externals.six import StringIO  \n",
    "from IPython.display import Image  \n",
    "from sklearn.tree import export_graphviz\n",
    "import pydotplus\n",
    "dot_data = StringIO()\n",
    "export_graphviz(clf, out_file=dot_data,  \n",
    "                filled=True, rounded=True,\n",
    "                special_characters=True, feature_names = feature_cols,class_names=['0','1'])\n",
    "graph = pydotplus.graph_from_dot_data(dot_data.getvalue())  \n",
    "graph.write_png('dt.png')\n",
    "Image(graph.create_png())"
   ]
  },
  {
   "cell_type": "code",
   "execution_count": null,
   "metadata": {},
   "outputs": [],
   "source": [
    "#required for graph\n",
    "pip install pydotplus"
   ]
  }
 ],
 "metadata": {
  "kernelspec": {
   "display_name": "Python 3",
   "language": "python",
   "name": "python3"
  },
  "language_info": {
   "codemirror_mode": {
    "name": "ipython",
    "version": 3
   },
   "file_extension": ".py",
   "mimetype": "text/x-python",
   "name": "python",
   "nbconvert_exporter": "python",
   "pygments_lexer": "ipython3",
   "version": "3.7.7"
  }
 },
 "nbformat": 4,
 "nbformat_minor": 4
}
